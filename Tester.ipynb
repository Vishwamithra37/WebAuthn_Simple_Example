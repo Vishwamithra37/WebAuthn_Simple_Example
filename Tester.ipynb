{
 "cells": [
  {
   "cell_type": "code",
   "execution_count": 1,
   "metadata": {},
   "outputs": [
    {
     "name": "stdout",
     "output_type": "stream",
     "text": [
      "{'challenge': 'f0e380f3199b63d9c98926fadc194262fbab1f33cc6c8f223f8bc7f00148a335', 'rp_id': 'localhost'}\n"
     ]
    }
   ],
   "source": [
    "import wb\n",
    "\n",
    "wb.create_Options_for_webauthn()\n",
    "print(wb.create_options_using_webauthn())"
   ]
  },
  {
   "cell_type": "code",
   "execution_count": null,
   "metadata": {},
   "outputs": [],
   "source": [
    "import requests\n",
    "\n",
    "s1=requests.Session()\n",
    "\n",
    "s1.headers.update({'Content-Type': 'application/json'})\n",
    "\n",
    "# Send a request to  localhost /verify post method.\n",
    "\n",
    "r1=s1.post('http://localhost:8001/verify', json={\"id\":\"tester\"})"
   ]
  }
 ],
 "metadata": {
  "kernelspec": {
   "display_name": "Python 3",
   "language": "python",
   "name": "python3"
  },
  "language_info": {
   "codemirror_mode": {
    "name": "ipython",
    "version": 3
   },
   "file_extension": ".py",
   "mimetype": "text/x-python",
   "name": "python",
   "nbconvert_exporter": "python",
   "pygments_lexer": "ipython3",
   "version": "3.9.6"
  },
  "orig_nbformat": 4,
  "vscode": {
   "interpreter": {
    "hash": "692ab2c8bba18b4d2c1f1549f4b9bb2df8ac22994e48ce67aade4971ae6a9a5e"
   }
  }
 },
 "nbformat": 4,
 "nbformat_minor": 2
}
